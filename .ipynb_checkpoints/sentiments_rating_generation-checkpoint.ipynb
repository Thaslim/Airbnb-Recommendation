{
 "cells": [
  {
   "cell_type": "markdown",
   "metadata": {},
   "source": [
    "##  Rule based Sentiment Analysis using Vader"
   ]
  },
  {
   "cell_type": "code",
   "execution_count": 4,
   "metadata": {},
   "outputs": [],
   "source": [
    "from pyspark import SparkContext\n",
    "from pyspark.sql.types import *\n",
    "from pyspark.sql import SparkSession\n",
    "from pyspark.sql.functions import col, lit\n",
    "from functools import reduce\n",
    "import nltk\n",
    "from nltk.corpus import stopwords\n",
    "from nltk.stem import WordNetLemmatizer\n",
    "import matplotlib.pyplot as plt\n",
    "from wordcloud import WordCloud \n",
    "import pandas as pd\n",
    "import re\n",
    "import string"
   ]
  },
  {
   "cell_type": "code",
   "execution_count": 5,
   "metadata": {},
   "outputs": [
    {
     "data": {
      "text/html": [
       "<div>\n",
       "<style scoped>\n",
       "    .dataframe tbody tr th:only-of-type {\n",
       "        vertical-align: middle;\n",
       "    }\n",
       "\n",
       "    .dataframe tbody tr th {\n",
       "        vertical-align: top;\n",
       "    }\n",
       "\n",
       "    .dataframe thead th {\n",
       "        text-align: right;\n",
       "    }\n",
       "</style>\n",
       "<table border=\"1\" class=\"dataframe\">\n",
       "  <thead>\n",
       "    <tr style=\"text-align: right;\">\n",
       "      <th></th>\n",
       "      <th>Unnamed: 0</th>\n",
       "      <th>listing_id</th>\n",
       "      <th>date</th>\n",
       "      <th>reviewer_id</th>\n",
       "      <th>comments</th>\n",
       "      <th>clean_comment</th>\n",
       "      <th>sentiment</th>\n",
       "      <th>polarity</th>\n",
       "    </tr>\n",
       "  </thead>\n",
       "  <tbody>\n",
       "    <tr>\n",
       "      <th>0</th>\n",
       "      <td>0</td>\n",
       "      <td>2060</td>\n",
       "      <td>2008-09-22</td>\n",
       "      <td>2865</td>\n",
       "      <td>very nice neighborhood,close enough to \"A\" tra...</td>\n",
       "      <td>train comfortable bed clean home jenny cat swe...</td>\n",
       "      <td>Positive</td>\n",
       "      <td>0.9325</td>\n",
       "    </tr>\n",
       "    <tr>\n",
       "      <th>1</th>\n",
       "      <td>1</td>\n",
       "      <td>2595</td>\n",
       "      <td>2009-11-21</td>\n",
       "      <td>50679</td>\n",
       "      <td>Notre séjour de trois nuits.\\r\\nNous avons app...</td>\n",
       "      <td>notre séjour nuits nous avon lappartement qui ...</td>\n",
       "      <td>Negative</td>\n",
       "      <td>-0.3612</td>\n",
       "    </tr>\n",
       "    <tr>\n",
       "      <th>2</th>\n",
       "      <td>2</td>\n",
       "      <td>2595</td>\n",
       "      <td>2009-12-05</td>\n",
       "      <td>53267</td>\n",
       "      <td>Great experience.</td>\n",
       "      <td>great experience</td>\n",
       "      <td>Positive</td>\n",
       "      <td>0.6249</td>\n",
       "    </tr>\n",
       "    <tr>\n",
       "      <th>3</th>\n",
       "      <td>3</td>\n",
       "      <td>2595</td>\n",
       "      <td>2009-12-10</td>\n",
       "      <td>38960</td>\n",
       "      <td>I've stayed with my friend at the Midtown Cast...</td>\n",
       "      <td>friend midtown day lovely place big spacious r...</td>\n",
       "      <td>Positive</td>\n",
       "      <td>0.9538</td>\n",
       "    </tr>\n",
       "    <tr>\n",
       "      <th>4</th>\n",
       "      <td>4</td>\n",
       "      <td>2595</td>\n",
       "      <td>2010-04-09</td>\n",
       "      <td>71130</td>\n",
       "      <td>We've been staying here for about 9 nights, en...</td>\n",
       "      <td>weve night center city sleepsshort way manhatt...</td>\n",
       "      <td>Positive</td>\n",
       "      <td>0.7269</td>\n",
       "    </tr>\n",
       "  </tbody>\n",
       "</table>\n",
       "</div>"
      ],
      "text/plain": [
       "   Unnamed: 0  listing_id        date  reviewer_id  \\\n",
       "0           0        2060  2008-09-22         2865   \n",
       "1           1        2595  2009-11-21        50679   \n",
       "2           2        2595  2009-12-05        53267   \n",
       "3           3        2595  2009-12-10        38960   \n",
       "4           4        2595  2010-04-09        71130   \n",
       "\n",
       "                                            comments  \\\n",
       "0  very nice neighborhood,close enough to \"A\" tra...   \n",
       "1  Notre séjour de trois nuits.\\r\\nNous avons app...   \n",
       "2                                  Great experience.   \n",
       "3  I've stayed with my friend at the Midtown Cast...   \n",
       "4  We've been staying here for about 9 nights, en...   \n",
       "\n",
       "                                       clean_comment sentiment  polarity  \n",
       "0  train comfortable bed clean home jenny cat swe...  Positive    0.9325  \n",
       "1  notre séjour nuits nous avon lappartement qui ...  Negative   -0.3612  \n",
       "2                                   great experience  Positive    0.6249  \n",
       "3  friend midtown day lovely place big spacious r...  Positive    0.9538  \n",
       "4  weve night center city sleepsshort way manhatt...  Positive    0.7269  "
      ]
     },
     "execution_count": 5,
     "metadata": {},
     "output_type": "execute_result"
    }
   ],
   "source": [
    "input_df = pd.read_csv('Clean_reviews_polarity.csv')\n",
    "input_df.head()"
   ]
  },
  {
   "cell_type": "markdown",
   "metadata": {},
   "source": [
    "## Normalize score to [0 - 1]"
   ]
  },
  {
   "cell_type": "code",
   "execution_count": 7,
   "metadata": {},
   "outputs": [
    {
     "data": {
      "text/plain": [
       "10000"
      ]
     },
     "execution_count": 7,
     "metadata": {},
     "output_type": "execute_result"
    }
   ],
   "source": [
    "len(input_df)"
   ]
  },
  {
   "cell_type": "code",
   "execution_count": 8,
   "metadata": {},
   "outputs": [
    {
     "data": {
      "text/html": [
       "<div>\n",
       "<style scoped>\n",
       "    .dataframe tbody tr th:only-of-type {\n",
       "        vertical-align: middle;\n",
       "    }\n",
       "\n",
       "    .dataframe tbody tr th {\n",
       "        vertical-align: top;\n",
       "    }\n",
       "\n",
       "    .dataframe thead th {\n",
       "        text-align: right;\n",
       "    }\n",
       "</style>\n",
       "<table border=\"1\" class=\"dataframe\">\n",
       "  <thead>\n",
       "    <tr style=\"text-align: right;\">\n",
       "      <th></th>\n",
       "      <th>Unnamed: 0</th>\n",
       "      <th>listing_id</th>\n",
       "      <th>date</th>\n",
       "      <th>reviewer_id</th>\n",
       "      <th>comments</th>\n",
       "      <th>clean_comment</th>\n",
       "      <th>sentiment</th>\n",
       "      <th>polarity</th>\n",
       "      <th>norm_score</th>\n",
       "      <th>nor_score</th>\n",
       "    </tr>\n",
       "  </thead>\n",
       "  <tbody>\n",
       "    <tr>\n",
       "      <th>0</th>\n",
       "      <td>0</td>\n",
       "      <td>2060</td>\n",
       "      <td>2008-09-22</td>\n",
       "      <td>2865</td>\n",
       "      <td>very nice neighborhood,close enough to \"A\" tra...</td>\n",
       "      <td>train comfortable bed clean home jenny cat swe...</td>\n",
       "      <td>Positive</td>\n",
       "      <td>0.9325</td>\n",
       "      <td>0.96625</td>\n",
       "      <td>0.96625</td>\n",
       "    </tr>\n",
       "    <tr>\n",
       "      <th>1</th>\n",
       "      <td>1</td>\n",
       "      <td>2595</td>\n",
       "      <td>2009-11-21</td>\n",
       "      <td>50679</td>\n",
       "      <td>Notre séjour de trois nuits.\\r\\nNous avons app...</td>\n",
       "      <td>notre séjour nuits nous avon lappartement qui ...</td>\n",
       "      <td>Negative</td>\n",
       "      <td>-0.3612</td>\n",
       "      <td>0.31940</td>\n",
       "      <td>0.31940</td>\n",
       "    </tr>\n",
       "    <tr>\n",
       "      <th>2</th>\n",
       "      <td>2</td>\n",
       "      <td>2595</td>\n",
       "      <td>2009-12-05</td>\n",
       "      <td>53267</td>\n",
       "      <td>Great experience.</td>\n",
       "      <td>great experience</td>\n",
       "      <td>Positive</td>\n",
       "      <td>0.6249</td>\n",
       "      <td>0.81245</td>\n",
       "      <td>0.81245</td>\n",
       "    </tr>\n",
       "    <tr>\n",
       "      <th>3</th>\n",
       "      <td>3</td>\n",
       "      <td>2595</td>\n",
       "      <td>2009-12-10</td>\n",
       "      <td>38960</td>\n",
       "      <td>I've stayed with my friend at the Midtown Cast...</td>\n",
       "      <td>friend midtown day lovely place big spacious r...</td>\n",
       "      <td>Positive</td>\n",
       "      <td>0.9538</td>\n",
       "      <td>0.97690</td>\n",
       "      <td>0.97690</td>\n",
       "    </tr>\n",
       "    <tr>\n",
       "      <th>4</th>\n",
       "      <td>4</td>\n",
       "      <td>2595</td>\n",
       "      <td>2010-04-09</td>\n",
       "      <td>71130</td>\n",
       "      <td>We've been staying here for about 9 nights, en...</td>\n",
       "      <td>weve night center city sleepsshort way manhatt...</td>\n",
       "      <td>Positive</td>\n",
       "      <td>0.7269</td>\n",
       "      <td>0.86345</td>\n",
       "      <td>0.86345</td>\n",
       "    </tr>\n",
       "  </tbody>\n",
       "</table>\n",
       "</div>"
      ],
      "text/plain": [
       "   Unnamed: 0  listing_id        date  reviewer_id  \\\n",
       "0           0        2060  2008-09-22         2865   \n",
       "1           1        2595  2009-11-21        50679   \n",
       "2           2        2595  2009-12-05        53267   \n",
       "3           3        2595  2009-12-10        38960   \n",
       "4           4        2595  2010-04-09        71130   \n",
       "\n",
       "                                            comments  \\\n",
       "0  very nice neighborhood,close enough to \"A\" tra...   \n",
       "1  Notre séjour de trois nuits.\\r\\nNous avons app...   \n",
       "2                                  Great experience.   \n",
       "3  I've stayed with my friend at the Midtown Cast...   \n",
       "4  We've been staying here for about 9 nights, en...   \n",
       "\n",
       "                                       clean_comment sentiment  polarity  \\\n",
       "0  train comfortable bed clean home jenny cat swe...  Positive    0.9325   \n",
       "1  notre séjour nuits nous avon lappartement qui ...  Negative   -0.3612   \n",
       "2                                   great experience  Positive    0.6249   \n",
       "3  friend midtown day lovely place big spacious r...  Positive    0.9538   \n",
       "4  weve night center city sleepsshort way manhatt...  Positive    0.7269   \n",
       "\n",
       "   norm_score  nor_score  \n",
       "0     0.96625    0.96625  \n",
       "1     0.31940    0.31940  \n",
       "2     0.81245    0.81245  \n",
       "3     0.97690    0.97690  \n",
       "4     0.86345    0.86345  "
      ]
     },
     "execution_count": 8,
     "metadata": {},
     "output_type": "execute_result"
    }
   ],
   "source": [
    "star_rating = []\n",
    "for i in range(len(input_df)):\n",
    "    star_rating.append((input_df.iloc[i].polarity+1)/2)\n",
    "input_df['norm_score'] = star_rating\n",
    "input_df.head()"
   ]
  },
  {
   "cell_type": "markdown",
   "metadata": {},
   "source": [
    "## Making classes converting score to integer [1-5]"
   ]
  },
  {
   "cell_type": "code",
   "execution_count": 16,
   "metadata": {},
   "outputs": [
    {
     "data": {
      "text/html": [
       "<div>\n",
       "<style scoped>\n",
       "    .dataframe tbody tr th:only-of-type {\n",
       "        vertical-align: middle;\n",
       "    }\n",
       "\n",
       "    .dataframe tbody tr th {\n",
       "        vertical-align: top;\n",
       "    }\n",
       "\n",
       "    .dataframe thead th {\n",
       "        text-align: right;\n",
       "    }\n",
       "</style>\n",
       "<table border=\"1\" class=\"dataframe\">\n",
       "  <thead>\n",
       "    <tr style=\"text-align: right;\">\n",
       "      <th></th>\n",
       "      <th>listing_id</th>\n",
       "      <th>date</th>\n",
       "      <th>reviewer_id</th>\n",
       "      <th>comments</th>\n",
       "      <th>clean_comment</th>\n",
       "      <th>sentiment</th>\n",
       "      <th>polarity</th>\n",
       "      <th>norm_score</th>\n",
       "      <th>rating</th>\n",
       "    </tr>\n",
       "  </thead>\n",
       "  <tbody>\n",
       "    <tr>\n",
       "      <th>0</th>\n",
       "      <td>2060</td>\n",
       "      <td>2008-09-22</td>\n",
       "      <td>2865</td>\n",
       "      <td>very nice neighborhood,close enough to \"A\" tra...</td>\n",
       "      <td>train comfortable bed clean home jenny cat swe...</td>\n",
       "      <td>Positive</td>\n",
       "      <td>0.9325</td>\n",
       "      <td>0.96625</td>\n",
       "      <td>5</td>\n",
       "    </tr>\n",
       "    <tr>\n",
       "      <th>1</th>\n",
       "      <td>2595</td>\n",
       "      <td>2009-11-21</td>\n",
       "      <td>50679</td>\n",
       "      <td>Notre séjour de trois nuits.\\r\\nNous avons app...</td>\n",
       "      <td>notre séjour nuits nous avon lappartement qui ...</td>\n",
       "      <td>Negative</td>\n",
       "      <td>-0.3612</td>\n",
       "      <td>0.31940</td>\n",
       "      <td>2</td>\n",
       "    </tr>\n",
       "    <tr>\n",
       "      <th>2</th>\n",
       "      <td>2595</td>\n",
       "      <td>2009-12-05</td>\n",
       "      <td>53267</td>\n",
       "      <td>Great experience.</td>\n",
       "      <td>great experience</td>\n",
       "      <td>Positive</td>\n",
       "      <td>0.6249</td>\n",
       "      <td>0.81245</td>\n",
       "      <td>5</td>\n",
       "    </tr>\n",
       "    <tr>\n",
       "      <th>3</th>\n",
       "      <td>2595</td>\n",
       "      <td>2009-12-10</td>\n",
       "      <td>38960</td>\n",
       "      <td>I've stayed with my friend at the Midtown Cast...</td>\n",
       "      <td>friend midtown day lovely place big spacious r...</td>\n",
       "      <td>Positive</td>\n",
       "      <td>0.9538</td>\n",
       "      <td>0.97690</td>\n",
       "      <td>5</td>\n",
       "    </tr>\n",
       "    <tr>\n",
       "      <th>4</th>\n",
       "      <td>2595</td>\n",
       "      <td>2010-04-09</td>\n",
       "      <td>71130</td>\n",
       "      <td>We've been staying here for about 9 nights, en...</td>\n",
       "      <td>weve night center city sleepsshort way manhatt...</td>\n",
       "      <td>Positive</td>\n",
       "      <td>0.7269</td>\n",
       "      <td>0.86345</td>\n",
       "      <td>5</td>\n",
       "    </tr>\n",
       "  </tbody>\n",
       "</table>\n",
       "</div>"
      ],
      "text/plain": [
       "   listing_id        date  reviewer_id  \\\n",
       "0        2060  2008-09-22         2865   \n",
       "1        2595  2009-11-21        50679   \n",
       "2        2595  2009-12-05        53267   \n",
       "3        2595  2009-12-10        38960   \n",
       "4        2595  2010-04-09        71130   \n",
       "\n",
       "                                            comments  \\\n",
       "0  very nice neighborhood,close enough to \"A\" tra...   \n",
       "1  Notre séjour de trois nuits.\\r\\nNous avons app...   \n",
       "2                                  Great experience.   \n",
       "3  I've stayed with my friend at the Midtown Cast...   \n",
       "4  We've been staying here for about 9 nights, en...   \n",
       "\n",
       "                                       clean_comment sentiment  polarity  \\\n",
       "0  train comfortable bed clean home jenny cat swe...  Positive    0.9325   \n",
       "1  notre séjour nuits nous avon lappartement qui ...  Negative   -0.3612   \n",
       "2                                   great experience  Positive    0.6249   \n",
       "3  friend midtown day lovely place big spacious r...  Positive    0.9538   \n",
       "4  weve night center city sleepsshort way manhatt...  Positive    0.7269   \n",
       "\n",
       "   norm_score  rating  \n",
       "0     0.96625       5  \n",
       "1     0.31940       2  \n",
       "2     0.81245       5  \n",
       "3     0.97690       5  \n",
       "4     0.86345       5  "
      ]
     },
     "execution_count": 16,
     "metadata": {},
     "output_type": "execute_result"
    }
   ],
   "source": [
    "import numpy as np\n",
    "rating = []\n",
    "for i in range(len(input_df)):\n",
    "    rating.append(np.digitize(5*input_df.iloc[i].norm_score,np.array([1,2,3,4,5]))+1)\n",
    "input_df['rating'] = rating\n",
    "input_df.head()"
   ]
  },
  {
   "cell_type": "code",
   "execution_count": 19,
   "metadata": {},
   "outputs": [],
   "source": [
    "input_df.to_csv('predicted_rating_part1.csv', index=False)"
   ]
  },
  {
   "cell_type": "code",
   "execution_count": 18,
   "metadata": {},
   "outputs": [
    {
     "data": {
      "text/plain": [
       "<matplotlib.axes._subplots.AxesSubplot at 0x10cfe5f90>"
      ]
     },
     "execution_count": 18,
     "metadata": {},
     "output_type": "execute_result"
    },
    {
     "data": {
      "image/png": "[encoded data removed]",
      "text/plain": [
       "<Figure size 432x288 with 1 Axes>"
      ]
     },
     "metadata": {},
     "output_type": "display_data"
    }
   ],
   "source": [
    "import seaborn as sns #visualisation\n",
    "import matplotlib.pyplot as plt #visualisation\n",
    "%matplotlib inline \n",
    "sns.set(color_codes=True)\n",
    "sns.boxplot(x=input_df['rating'])"
   ]
  },
  {
   "cell_type": "code",
   "execution_count": 23,
   "metadata": {},
   "outputs": [
    {
     "data": {
      "image/png": "[encoded data removed]",
      "text/plain": [
       "<Figure size 720x432 with 1 Axes>"
      ]
     },
     "metadata": {},
     "output_type": "display_data"
    }
   ],
   "source": [
    "fig, ax = plt.subplots(figsize=(10,6))\n",
    "ax.scatter(input_df['rating'], input_df['listing_id'])\n",
    "ax.set_xlabel('rating')\n",
    "ax.set_ylabel('listing_id')\n",
    "plt.show()"
   ]
  },
  {
   "cell_type": "code",
   "execution_count": 28,
   "metadata": {},
   "outputs": [
    {
     "data": {
      "image/png": "[encoded data removed]",
      "text/plain": [
       "<Figure size 720x360 with 1 Axes>"
      ]
     },
     "metadata": {},
     "output_type": "display_data"
    }
   ],
   "source": [
    "input_df.rating.value_counts().nlargest(40).plot(kind='bar', figsize=(10,5))\n",
    "plt.title('ratings vs frequency')\n",
    "plt.ylabel('Frequency')\n",
    "plt.xlabel('rating');"
   ]
  },
  {
   "cell_type": "code",
   "execution_count": null,
   "metadata": {},
   "outputs": [],
   "source": []
  }
 ],
 "metadata": {
  "kernelspec": {
   "display_name": "Python 3",
   "language": "python",
   "name": "python3"
  },
  "language_info": {
   "codemirror_mode": {
    "name": "ipython",
    "version": 3
   },
   "file_extension": ".py",
   "mimetype": "text/x-python",
   "name": "python",
   "nbconvert_exporter": "python",
   "pygments_lexer": "ipython3",
   "version": "3.7.6"
  }
 },
 "nbformat": 4,
 "nbformat_minor": 4
}
