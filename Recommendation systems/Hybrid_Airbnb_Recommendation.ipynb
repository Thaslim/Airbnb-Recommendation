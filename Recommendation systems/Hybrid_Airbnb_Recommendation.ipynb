{
 "cells": [
  {
   "cell_type": "code",
   "execution_count": 1,
   "metadata": {},
   "outputs": [],
   "source": [
    "#start a sessio to create a dataframe\n",
    "from pyspark.sql import SparkSession\n",
    "from pyspark.sql import SQLContext\n",
    "import pandas as pd\n",
    "from sklearn.model_selection import train_test_split\n",
    "from pyspark.mllib.recommendation import ALS,MatrixFactorizationModel,Rating\n",
    "import pickle\n",
    "#Need to be able to square root the Mean-Squared Error\n",
    "from math import sqrt"
   ]
  },
  {
   "cell_type": "code",
   "execution_count": 2,
   "metadata": {},
   "outputs": [],
   "source": [
    "#Load data\n",
    "df = pd.read_csv('Clean_ratings.csv')"
   ]
  },
  {
   "cell_type": "code",
   "execution_count": 3,
   "metadata": {},
   "outputs": [
    {
     "data": {
      "text/html": [
       "<div>\n",
       "<style scoped>\n",
       "    .dataframe tbody tr th:only-of-type {\n",
       "        vertical-align: middle;\n",
       "    }\n",
       "\n",
       "    .dataframe tbody tr th {\n",
       "        vertical-align: top;\n",
       "    }\n",
       "\n",
       "    .dataframe thead th {\n",
       "        text-align: right;\n",
       "    }\n",
       "</style>\n",
       "<table border=\"1\" class=\"dataframe\">\n",
       "  <thead>\n",
       "    <tr style=\"text-align: right;\">\n",
       "      <th></th>\n",
       "      <th>reviewer_id</th>\n",
       "      <th>listing_id</th>\n",
       "      <th>rating</th>\n",
       "    </tr>\n",
       "  </thead>\n",
       "  <tbody>\n",
       "    <tr>\n",
       "      <th>0</th>\n",
       "      <td>128182033</td>\n",
       "      <td>2595</td>\n",
       "      <td>4.0</td>\n",
       "    </tr>\n",
       "    <tr>\n",
       "      <th>1</th>\n",
       "      <td>115721479</td>\n",
       "      <td>2595</td>\n",
       "      <td>5.0</td>\n",
       "    </tr>\n",
       "    <tr>\n",
       "      <th>2</th>\n",
       "      <td>3588281</td>\n",
       "      <td>5121</td>\n",
       "      <td>5.0</td>\n",
       "    </tr>\n",
       "    <tr>\n",
       "      <th>3</th>\n",
       "      <td>22508539</td>\n",
       "      <td>5203</td>\n",
       "      <td>5.0</td>\n",
       "    </tr>\n",
       "    <tr>\n",
       "      <th>4</th>\n",
       "      <td>44462</td>\n",
       "      <td>6848</td>\n",
       "      <td>5.0</td>\n",
       "    </tr>\n",
       "    <tr>\n",
       "      <th>...</th>\n",
       "      <td>...</td>\n",
       "      <td>...</td>\n",
       "      <td>...</td>\n",
       "    </tr>\n",
       "    <tr>\n",
       "      <th>1098057</th>\n",
       "      <td>106040507</td>\n",
       "      <td>42156917</td>\n",
       "      <td>4.0</td>\n",
       "    </tr>\n",
       "    <tr>\n",
       "      <th>1098058</th>\n",
       "      <td>302696386</td>\n",
       "      <td>42298416</td>\n",
       "      <td>4.0</td>\n",
       "    </tr>\n",
       "    <tr>\n",
       "      <th>1098059</th>\n",
       "      <td>30650727</td>\n",
       "      <td>42300468</td>\n",
       "      <td>5.0</td>\n",
       "    </tr>\n",
       "    <tr>\n",
       "      <th>1098060</th>\n",
       "      <td>156596817</td>\n",
       "      <td>42312718</td>\n",
       "      <td>5.0</td>\n",
       "    </tr>\n",
       "    <tr>\n",
       "      <th>1098061</th>\n",
       "      <td>180475787</td>\n",
       "      <td>42411834</td>\n",
       "      <td>3.0</td>\n",
       "    </tr>\n",
       "  </tbody>\n",
       "</table>\n",
       "<p>1098062 rows × 3 columns</p>\n",
       "</div>"
      ],
      "text/plain": [
       "         reviewer_id  listing_id  rating\n",
       "0          128182033        2595     4.0\n",
       "1          115721479        2595     5.0\n",
       "2            3588281        5121     5.0\n",
       "3           22508539        5203     5.0\n",
       "4              44462        6848     5.0\n",
       "...              ...         ...     ...\n",
       "1098057    106040507    42156917     4.0\n",
       "1098058    302696386    42298416     4.0\n",
       "1098059     30650727    42300468     5.0\n",
       "1098060    156596817    42312718     5.0\n",
       "1098061    180475787    42411834     3.0\n",
       "\n",
       "[1098062 rows x 3 columns]"
      ]
     },
     "execution_count": 3,
     "metadata": {},
     "output_type": "execute_result"
    }
   ],
   "source": [
    "df"
   ]
  },
  {
   "cell_type": "code",
   "execution_count": 4,
   "metadata": {},
   "outputs": [
    {
     "data": {
      "text/plain": [
       "39829"
      ]
     },
     "execution_count": 4,
     "metadata": {},
     "output_type": "execute_result"
    }
   ],
   "source": [
    "len(df.listing_id.unique())"
   ]
  },
  {
   "cell_type": "code",
   "execution_count": 5,
   "metadata": {},
   "outputs": [],
   "source": [
    "#If listing id has appeard 10 times or less keep that in training data before splitting into train,test\n",
    "counts = df['listing_id'].value_counts()\n",
    "ten_list = df[df['listing_id'].isin(counts[counts <= 10].index)]"
   ]
  },
  {
   "cell_type": "code",
   "execution_count": 6,
   "metadata": {},
   "outputs": [
    {
     "data": {
      "text/html": [
       "<div>\n",
       "<style scoped>\n",
       "    .dataframe tbody tr th:only-of-type {\n",
       "        vertical-align: middle;\n",
       "    }\n",
       "\n",
       "    .dataframe tbody tr th {\n",
       "        vertical-align: top;\n",
       "    }\n",
       "\n",
       "    .dataframe thead th {\n",
       "        text-align: right;\n",
       "    }\n",
       "</style>\n",
       "<table border=\"1\" class=\"dataframe\">\n",
       "  <thead>\n",
       "    <tr style=\"text-align: right;\">\n",
       "      <th></th>\n",
       "      <th>reviewer_id</th>\n",
       "      <th>listing_id</th>\n",
       "      <th>rating</th>\n",
       "    </tr>\n",
       "  </thead>\n",
       "  <tbody>\n",
       "    <tr>\n",
       "      <th>161</th>\n",
       "      <td>6076978</td>\n",
       "      <td>151478</td>\n",
       "      <td>5.0</td>\n",
       "    </tr>\n",
       "    <tr>\n",
       "      <th>200</th>\n",
       "      <td>12766552</td>\n",
       "      <td>212544</td>\n",
       "      <td>5.0</td>\n",
       "    </tr>\n",
       "    <tr>\n",
       "      <th>314</th>\n",
       "      <td>1557845</td>\n",
       "      <td>403712</td>\n",
       "      <td>4.0</td>\n",
       "    </tr>\n",
       "    <tr>\n",
       "      <th>320</th>\n",
       "      <td>166043249</td>\n",
       "      <td>412180</td>\n",
       "      <td>2.0</td>\n",
       "    </tr>\n",
       "    <tr>\n",
       "      <th>367</th>\n",
       "      <td>3829107</td>\n",
       "      <td>503585</td>\n",
       "      <td>4.0</td>\n",
       "    </tr>\n",
       "    <tr>\n",
       "      <th>...</th>\n",
       "      <td>...</td>\n",
       "      <td>...</td>\n",
       "      <td>...</td>\n",
       "    </tr>\n",
       "    <tr>\n",
       "      <th>1098057</th>\n",
       "      <td>106040507</td>\n",
       "      <td>42156917</td>\n",
       "      <td>4.0</td>\n",
       "    </tr>\n",
       "    <tr>\n",
       "      <th>1098058</th>\n",
       "      <td>302696386</td>\n",
       "      <td>42298416</td>\n",
       "      <td>4.0</td>\n",
       "    </tr>\n",
       "    <tr>\n",
       "      <th>1098059</th>\n",
       "      <td>30650727</td>\n",
       "      <td>42300468</td>\n",
       "      <td>5.0</td>\n",
       "    </tr>\n",
       "    <tr>\n",
       "      <th>1098060</th>\n",
       "      <td>156596817</td>\n",
       "      <td>42312718</td>\n",
       "      <td>5.0</td>\n",
       "    </tr>\n",
       "    <tr>\n",
       "      <th>1098061</th>\n",
       "      <td>180475787</td>\n",
       "      <td>42411834</td>\n",
       "      <td>3.0</td>\n",
       "    </tr>\n",
       "  </tbody>\n",
       "</table>\n",
       "<p>80387 rows × 3 columns</p>\n",
       "</div>"
      ],
      "text/plain": [
       "         reviewer_id  listing_id  rating\n",
       "161          6076978      151478     5.0\n",
       "200         12766552      212544     5.0\n",
       "314          1557845      403712     4.0\n",
       "320        166043249      412180     2.0\n",
       "367          3829107      503585     4.0\n",
       "...              ...         ...     ...\n",
       "1098057    106040507    42156917     4.0\n",
       "1098058    302696386    42298416     4.0\n",
       "1098059     30650727    42300468     5.0\n",
       "1098060    156596817    42312718     5.0\n",
       "1098061    180475787    42411834     3.0\n",
       "\n",
       "[80387 rows x 3 columns]"
      ]
     },
     "execution_count": 6,
     "metadata": {},
     "output_type": "execute_result"
    }
   ],
   "source": [
    "ten_list"
   ]
  },
  {
   "cell_type": "code",
   "execution_count": 7,
   "metadata": {},
   "outputs": [],
   "source": [
    "#If listing id has appeard more than 10 times randomly split it test and train\n",
    "grt_10_df = df[df['listing_id'].isin(counts[counts > 10].index)]"
   ]
  },
  {
   "cell_type": "code",
   "execution_count": 8,
   "metadata": {},
   "outputs": [],
   "source": [
    "grt_10_df.reset_index(drop=True,inplace=True)"
   ]
  },
  {
   "cell_type": "code",
   "execution_count": 9,
   "metadata": {},
   "outputs": [
    {
     "data": {
      "text/html": [
       "<div>\n",
       "<style scoped>\n",
       "    .dataframe tbody tr th:only-of-type {\n",
       "        vertical-align: middle;\n",
       "    }\n",
       "\n",
       "    .dataframe tbody tr th {\n",
       "        vertical-align: top;\n",
       "    }\n",
       "\n",
       "    .dataframe thead th {\n",
       "        text-align: right;\n",
       "    }\n",
       "</style>\n",
       "<table border=\"1\" class=\"dataframe\">\n",
       "  <thead>\n",
       "    <tr style=\"text-align: right;\">\n",
       "      <th></th>\n",
       "      <th>reviewer_id</th>\n",
       "      <th>listing_id</th>\n",
       "      <th>rating</th>\n",
       "    </tr>\n",
       "  </thead>\n",
       "  <tbody>\n",
       "    <tr>\n",
       "      <th>0</th>\n",
       "      <td>128182033</td>\n",
       "      <td>2595</td>\n",
       "      <td>4.0</td>\n",
       "    </tr>\n",
       "    <tr>\n",
       "      <th>1</th>\n",
       "      <td>115721479</td>\n",
       "      <td>2595</td>\n",
       "      <td>5.0</td>\n",
       "    </tr>\n",
       "    <tr>\n",
       "      <th>2</th>\n",
       "      <td>3588281</td>\n",
       "      <td>5121</td>\n",
       "      <td>5.0</td>\n",
       "    </tr>\n",
       "    <tr>\n",
       "      <th>3</th>\n",
       "      <td>22508539</td>\n",
       "      <td>5203</td>\n",
       "      <td>5.0</td>\n",
       "    </tr>\n",
       "    <tr>\n",
       "      <th>4</th>\n",
       "      <td>44462</td>\n",
       "      <td>6848</td>\n",
       "      <td>5.0</td>\n",
       "    </tr>\n",
       "    <tr>\n",
       "      <th>...</th>\n",
       "      <td>...</td>\n",
       "      <td>...</td>\n",
       "      <td>...</td>\n",
       "    </tr>\n",
       "    <tr>\n",
       "      <th>1017670</th>\n",
       "      <td>323549492</td>\n",
       "      <td>41175544</td>\n",
       "      <td>4.0</td>\n",
       "    </tr>\n",
       "    <tr>\n",
       "      <th>1017671</th>\n",
       "      <td>128401910</td>\n",
       "      <td>41535260</td>\n",
       "      <td>4.0</td>\n",
       "    </tr>\n",
       "    <tr>\n",
       "      <th>1017672</th>\n",
       "      <td>223573887</td>\n",
       "      <td>41535260</td>\n",
       "      <td>4.0</td>\n",
       "    </tr>\n",
       "    <tr>\n",
       "      <th>1017673</th>\n",
       "      <td>83602369</td>\n",
       "      <td>41568190</td>\n",
       "      <td>5.0</td>\n",
       "    </tr>\n",
       "    <tr>\n",
       "      <th>1017674</th>\n",
       "      <td>325431781</td>\n",
       "      <td>41568190</td>\n",
       "      <td>4.0</td>\n",
       "    </tr>\n",
       "  </tbody>\n",
       "</table>\n",
       "<p>1017675 rows × 3 columns</p>\n",
       "</div>"
      ],
      "text/plain": [
       "         reviewer_id  listing_id  rating\n",
       "0          128182033        2595     4.0\n",
       "1          115721479        2595     5.0\n",
       "2            3588281        5121     5.0\n",
       "3           22508539        5203     5.0\n",
       "4              44462        6848     5.0\n",
       "...              ...         ...     ...\n",
       "1017670    323549492    41175544     4.0\n",
       "1017671    128401910    41535260     4.0\n",
       "1017672    223573887    41535260     4.0\n",
       "1017673     83602369    41568190     5.0\n",
       "1017674    325431781    41568190     4.0\n",
       "\n",
       "[1017675 rows x 3 columns]"
      ]
     },
     "execution_count": 9,
     "metadata": {},
     "output_type": "execute_result"
    }
   ],
   "source": [
    "grt_10_df"
   ]
  },
  {
   "cell_type": "code",
   "execution_count": 10,
   "metadata": {},
   "outputs": [],
   "source": [
    "#create a spark session\n",
    "spark = SparkSession.builder.master('local[*]').config('spark.dirver.maxResultSize', '32g') .config(\"spark.driver.memory\", \"64g\").appName('AirBnB').getOrCreate()"
   ]
  },
  {
   "cell_type": "code",
   "execution_count": 11,
   "metadata": {},
   "outputs": [],
   "source": [
    "#create a spark context\n",
    "sc = spark.sparkContext"
   ]
  },
  {
   "cell_type": "code",
   "execution_count": 12,
   "metadata": {},
   "outputs": [],
   "source": [
    "#Split data into training and testing with 0.9 and 0.1 ratio\n",
    "df_train, df_test = train_test_split(grt_10_df, test_size=0.1,random_state=42)"
   ]
  },
  {
   "cell_type": "code",
   "execution_count": 13,
   "metadata": {},
   "outputs": [],
   "source": [
    "#concatinating the splitted data and preserved listings with value counts <10\n",
    "cons_train = pd.concat([df_train,ten_list]).reset_index(drop=True)"
   ]
  },
  {
   "cell_type": "code",
   "execution_count": 14,
   "metadata": {},
   "outputs": [
    {
     "data": {
      "text/plain": [
       "(996294, 3)"
      ]
     },
     "execution_count": 14,
     "metadata": {},
     "output_type": "execute_result"
    }
   ],
   "source": [
    "cons_train.shape"
   ]
  },
  {
   "cell_type": "code",
   "execution_count": 15,
   "metadata": {},
   "outputs": [
    {
     "data": {
      "text/plain": [
       "39829"
      ]
     },
     "execution_count": 15,
     "metadata": {},
     "output_type": "execute_result"
    }
   ],
   "source": [
    "len(cons_train.listing_id.unique())"
   ]
  },
  {
   "cell_type": "code",
   "execution_count": 16,
   "metadata": {},
   "outputs": [
    {
     "data": {
      "text/plain": [
       "(101768, 3)"
      ]
     },
     "execution_count": 16,
     "metadata": {},
     "output_type": "execute_result"
    }
   ],
   "source": [
    "df_test.shape"
   ]
  },
  {
   "cell_type": "code",
   "execution_count": 17,
   "metadata": {},
   "outputs": [],
   "source": [
    "#Store training and testing dataset as seperate csv files\n",
    "cons_train.to_csv('Training.csv',index = False)\n",
    "df_test.to_csv('Testing.csv',index=False)"
   ]
  },
  {
   "cell_type": "code",
   "execution_count": 18,
   "metadata": {},
   "outputs": [],
   "source": [
    "#load Training.csv into df\n",
    "sp_train = spark.read.csv(\"Training.csv\",inferSchema=\"true\", header=\"true\")"
   ]
  },
  {
   "cell_type": "code",
   "execution_count": 19,
   "metadata": {},
   "outputs": [
    {
     "data": {
      "text/plain": [
       "[Row(reviewer_id=3882125, listing_id=3479639, rating=5.0),\n",
       " Row(reviewer_id=2690979, listing_id=23273676, rating=4.0)]"
      ]
     },
     "execution_count": 19,
     "metadata": {},
     "output_type": "execute_result"
    }
   ],
   "source": [
    "sp_train.take(2)"
   ]
  },
  {
   "cell_type": "code",
   "execution_count": 20,
   "metadata": {},
   "outputs": [
    {
     "name": "stdout",
     "output_type": "stream",
     "text": [
      "+-----------+----------+------+\n",
      "|reviewer_id|listing_id|rating|\n",
      "+-----------+----------+------+\n",
      "|    3882125|   3479639|   5.0|\n",
      "|    2690979|  23273676|   4.0|\n",
      "|   63631541|     62465|   5.0|\n",
      "|    3095417|  35183442|   4.0|\n",
      "|   62432081|  27472111|   5.0|\n",
      "|  293246596|  38489721|   4.0|\n",
      "|    6642037|    667502|   2.0|\n",
      "|  248199756|  28608063|   4.0|\n",
      "|  287949091|  34749200|   5.0|\n",
      "|   99372679|  24258565|   5.0|\n",
      "+-----------+----------+------+\n",
      "only showing top 10 rows\n",
      "\n"
     ]
    }
   ],
   "source": [
    "#View dataframe\n",
    "sp_train.show(10)"
   ]
  },
  {
   "cell_type": "code",
   "execution_count": 21,
   "metadata": {},
   "outputs": [],
   "source": [
    "#load Training.csv into df\n",
    "sp_test = spark.read.csv(\"Testing.csv\",inferSchema=\"true\", header=\"true\")"
   ]
  },
  {
   "cell_type": "code",
   "execution_count": 22,
   "metadata": {},
   "outputs": [
    {
     "name": "stdout",
     "output_type": "stream",
     "text": [
      "+-----------+----------+------+\n",
      "|reviewer_id|listing_id|rating|\n",
      "+-----------+----------+------+\n",
      "|   60342127|   9434513|   5.0|\n",
      "|   93608760|   5390882|   2.0|\n",
      "|   32500897|   2563611|   4.0|\n",
      "|   16540824|     50447|   5.0|\n",
      "|  193316648|  21448949|   4.0|\n",
      "|   29147966|  13529037|   5.0|\n",
      "|  110867659|  30246118|   5.0|\n",
      "|   24093677|   6882689|   4.0|\n",
      "|    2254917|  13723345|   5.0|\n",
      "|    3132338|   4226098|   5.0|\n",
      "+-----------+----------+------+\n",
      "only showing top 10 rows\n",
      "\n"
     ]
    }
   ],
   "source": [
    "#View dataframe\n",
    "sp_test.show(10)"
   ]
  },
  {
   "cell_type": "code",
   "execution_count": 23,
   "metadata": {},
   "outputs": [
    {
     "data": {
      "text/plain": [
       "DataFrame[reviewer_id: int, listing_id: int, rating: double]"
      ]
     },
     "execution_count": 23,
     "metadata": {},
     "output_type": "execute_result"
    }
   ],
   "source": [
    "#Cach to speed up the process.\n",
    "sp_train.cache()\n",
    "sp_test.cache()"
   ]
  },
  {
   "cell_type": "code",
   "execution_count": 32,
   "metadata": {},
   "outputs": [],
   "source": [
    "sc.setCheckpointDir('checkpoint')"
   ]
  },
  {
   "cell_type": "code",
   "execution_count": 33,
   "metadata": {},
   "outputs": [],
   "source": [
    "ALS.checkpointInterval = 4"
   ]
  },
  {
   "cell_type": "code",
   "execution_count": 34,
   "metadata": {},
   "outputs": [],
   "source": [
    "#Build ALS model with train data\n",
    "model = ALS.train(ratings=sp_train,    # (userID, productID, rating) tuple\n",
    "                iterations=25,\n",
    "                rank=200,\n",
    "                lambda_=0.015,   nonnegative=True,        # regularization param\n",
    "                seed=99)"
   ]
  },
  {
   "cell_type": "code",
   "execution_count": 36,
   "metadata": {},
   "outputs": [],
   "source": [
    "#Save model\n",
    "model.save(sc,'ALS_model.model')"
   ]
  },
  {
   "cell_type": "code",
   "execution_count": null,
   "metadata": {},
   "outputs": [],
   "source": [
    "#Load saved model\n",
    "#sameModel = MatrixFactorizationModel.load(sc, 'ALS_model.model')"
   ]
  },
  {
   "cell_type": "code",
   "execution_count": 37,
   "metadata": {},
   "outputs": [],
   "source": [
    "#To calculate rmse predict rating for all and compare with original rating\n",
    "pred_input = sp_train.rdd.map(lambda x:(x[0],x[1]))  \n",
    "#Returns Ratings(user, item, prediction)\n",
    "pred = model.predictAll(pred_input) "
   ]
  },
  {
   "cell_type": "code",
   "execution_count": 38,
   "metadata": {},
   "outputs": [
    {
     "name": "stdout",
     "output_type": "stream",
     "text": [
      "Training RMSE :  0.006771193199121022\n"
     ]
    }
   ],
   "source": [
    "#Get Performance Estimate\n",
    "#Organize the data to make (user, product) the key)\n",
    "true_reorg = sp_train.rdd.map(lambda x:((x[0],x[1]), x[2]))\n",
    "pred_reorg = pred.map(lambda x:((x[0],x[1]), x[2]))\n",
    "#join reorganized data\n",
    "true_pred = true_reorg.join(pred_reorg)\n",
    "#Calculate mean squared error\n",
    "MSE = true_pred.map(lambda r: (r[1][0] - r[1][1])**2).mean()\n",
    "RMSE = sqrt(MSE)\n",
    "print('Training RMSE : ',RMSE)"
   ]
  },
  {
   "cell_type": "code",
   "execution_count": 39,
   "metadata": {},
   "outputs": [
    {
     "name": "stdout",
     "output_type": "stream",
     "text": [
      "Testing error :  1.4134078954522193\n"
     ]
    }
   ],
   "source": [
    "#Test Set Evaluation\n",
    "test_input = sp_test.rdd.map(lambda x:(x[0],x[1])) \n",
    "pred_test = model.predictAll(test_input)\n",
    "test_reorg = sp_test.rdd.map(lambda x:((x[0],x[1]), x[2]))\n",
    "pred_reorg = pred_test.map(lambda x:((x[0],x[1]), x[2]))\n",
    "test_pred = test_reorg.join(pred_reorg)\n",
    "test_MSE = test_pred.map(lambda r: (r[1][0] - r[1][1])**2).mean()\n",
    "test_RMSE = sqrt(test_MSE)\n",
    "print('Testing error : ',test_RMSE)"
   ]
  },
  {
   "cell_type": "code",
   "execution_count": 40,
   "metadata": {},
   "outputs": [],
   "source": [
    "# For User Y Find N Products to Promote\n",
    "rec = model.recommendProducts(6076978,5)"
   ]
  },
  {
   "cell_type": "code",
   "execution_count": 41,
   "metadata": {},
   "outputs": [
    {
     "data": {
      "text/plain": [
       "[Rating(user=6076978, product=151478, rating=4.9974147226480214),\n",
       " Rating(user=6076978, product=1175400, rating=4.533415312066755),\n",
       " Rating(user=6076978, product=841075, rating=4.5230501901090285),\n",
       " Rating(user=6076978, product=13495558, rating=4.514859995477027),\n",
       " Rating(user=6076978, product=34595255, rating=4.514848857893221)]"
      ]
     },
     "execution_count": 41,
     "metadata": {},
     "output_type": "execute_result"
    }
   ],
   "source": [
    "rec"
   ]
  },
  {
   "cell_type": "markdown",
   "metadata": {},
   "source": [
    "### Building a hybrid recommendation\n"
   ]
  },
  {
   "cell_type": "code",
   "execution_count": 42,
   "metadata": {},
   "outputs": [],
   "source": [
    "#Load tfidf score calculated for every listings from content based recommender system\n",
    "with open('results_tf.pkl', 'rb') as f:\n",
    "    res = pickle.load(f)"
   ]
  },
  {
   "cell_type": "code",
   "execution_count": 43,
   "metadata": {},
   "outputs": [],
   "source": [
    "#Load listings dataset\n",
    "pdf1 = pd.read_csv('Clean_listings.csv')"
   ]
  },
  {
   "cell_type": "code",
   "execution_count": 44,
   "metadata": {},
   "outputs": [
    {
     "data": {
      "text/html": [
       "<div>\n",
       "<style scoped>\n",
       "    .dataframe tbody tr th:only-of-type {\n",
       "        vertical-align: middle;\n",
       "    }\n",
       "\n",
       "    .dataframe tbody tr th {\n",
       "        vertical-align: top;\n",
       "    }\n",
       "\n",
       "    .dataframe thead th {\n",
       "        text-align: right;\n",
       "    }\n",
       "</style>\n",
       "<table border=\"1\" class=\"dataframe\">\n",
       "  <thead>\n",
       "    <tr style=\"text-align: right;\">\n",
       "      <th></th>\n",
       "      <th>id</th>\n",
       "      <th>content</th>\n",
       "      <th>neighbourhood_group_cleansed</th>\n",
       "      <th>latitude</th>\n",
       "      <th>longitude</th>\n",
       "      <th>bathrooms</th>\n",
       "      <th>bedrooms</th>\n",
       "      <th>room_type</th>\n",
       "      <th>price</th>\n",
       "      <th>minimum_nights</th>\n",
       "      <th>number_of_reviews</th>\n",
       "      <th>review_scores_rating</th>\n",
       "    </tr>\n",
       "  </thead>\n",
       "  <tbody>\n",
       "    <tr>\n",
       "      <th>0</th>\n",
       "      <td>2060</td>\n",
       "      <td>Modern NYC // Lovely, spacious, sunny 1 BR apa...</td>\n",
       "      <td>Manhattan</td>\n",
       "      <td>40.85722</td>\n",
       "      <td>-73.93790</td>\n",
       "      <td>1.0</td>\n",
       "      <td>1.0</td>\n",
       "      <td>Private room</td>\n",
       "      <td>100.0</td>\n",
       "      <td>1</td>\n",
       "      <td>1</td>\n",
       "      <td>80.0</td>\n",
       "    </tr>\n",
       "    <tr>\n",
       "      <th>1</th>\n",
       "      <td>2595</td>\n",
       "      <td>Skylit Midtown Castle // Beautiful, spacious s...</td>\n",
       "      <td>Manhattan</td>\n",
       "      <td>40.75362</td>\n",
       "      <td>-73.98377</td>\n",
       "      <td>1.0</td>\n",
       "      <td>0.0</td>\n",
       "      <td>Entire home/apt</td>\n",
       "      <td>225.0</td>\n",
       "      <td>7</td>\n",
       "      <td>48</td>\n",
       "      <td>94.0</td>\n",
       "    </tr>\n",
       "    <tr>\n",
       "      <th>2</th>\n",
       "      <td>3831</td>\n",
       "      <td>Cozy Entire Floor of Brownstone // Urban retre...</td>\n",
       "      <td>Brooklyn</td>\n",
       "      <td>40.68514</td>\n",
       "      <td>-73.95976</td>\n",
       "      <td>1.0</td>\n",
       "      <td>1.0</td>\n",
       "      <td>Entire home/apt</td>\n",
       "      <td>89.0</td>\n",
       "      <td>1</td>\n",
       "      <td>313</td>\n",
       "      <td>90.0</td>\n",
       "    </tr>\n",
       "    <tr>\n",
       "      <th>3</th>\n",
       "      <td>5099</td>\n",
       "      <td>Large Cozy 1 BR Apartment In Midtown East // M...</td>\n",
       "      <td>Manhattan</td>\n",
       "      <td>40.74767</td>\n",
       "      <td>-73.97500</td>\n",
       "      <td>1.0</td>\n",
       "      <td>1.0</td>\n",
       "      <td>Entire home/apt</td>\n",
       "      <td>200.0</td>\n",
       "      <td>3</td>\n",
       "      <td>78</td>\n",
       "      <td>90.0</td>\n",
       "    </tr>\n",
       "    <tr>\n",
       "      <th>4</th>\n",
       "      <td>5114</td>\n",
       "      <td>Super Room in Great area. // First, the area i...</td>\n",
       "      <td>Manhattan</td>\n",
       "      <td>40.71910</td>\n",
       "      <td>-73.99040</td>\n",
       "      <td>1.0</td>\n",
       "      <td>1.0</td>\n",
       "      <td>Private room</td>\n",
       "      <td>94.0</td>\n",
       "      <td>1</td>\n",
       "      <td>75</td>\n",
       "      <td>94.0</td>\n",
       "    </tr>\n",
       "  </tbody>\n",
       "</table>\n",
       "</div>"
      ],
      "text/plain": [
       "     id                                            content  \\\n",
       "0  2060  Modern NYC // Lovely, spacious, sunny 1 BR apa...   \n",
       "1  2595  Skylit Midtown Castle // Beautiful, spacious s...   \n",
       "2  3831  Cozy Entire Floor of Brownstone // Urban retre...   \n",
       "3  5099  Large Cozy 1 BR Apartment In Midtown East // M...   \n",
       "4  5114  Super Room in Great area. // First, the area i...   \n",
       "\n",
       "  neighbourhood_group_cleansed  latitude  longitude  bathrooms  bedrooms  \\\n",
       "0                    Manhattan  40.85722  -73.93790        1.0       1.0   \n",
       "1                    Manhattan  40.75362  -73.98377        1.0       0.0   \n",
       "2                     Brooklyn  40.68514  -73.95976        1.0       1.0   \n",
       "3                    Manhattan  40.74767  -73.97500        1.0       1.0   \n",
       "4                    Manhattan  40.71910  -73.99040        1.0       1.0   \n",
       "\n",
       "         room_type  price  minimum_nights  number_of_reviews  \\\n",
       "0     Private room  100.0               1                  1   \n",
       "1  Entire home/apt  225.0               7                 48   \n",
       "2  Entire home/apt   89.0               1                313   \n",
       "3  Entire home/apt  200.0               3                 78   \n",
       "4     Private room   94.0               1                 75   \n",
       "\n",
       "   review_scores_rating  \n",
       "0                  80.0  \n",
       "1                  94.0  \n",
       "2                  90.0  \n",
       "3                  90.0  \n",
       "4                  94.0  "
      ]
     },
     "execution_count": 44,
     "metadata": {},
     "output_type": "execute_result"
    }
   ],
   "source": [
    "pdf1.head()"
   ]
  },
  {
   "cell_type": "code",
   "execution_count": 45,
   "metadata": {},
   "outputs": [],
   "source": [
    "#Function to get a understandable listing name and description from the content field, given an item ID\n",
    "def item(id):\n",
    "    name   = pdf1.loc[pdf1['id'] == id]['content'].tolist()[0].split(' // ')[0]\n",
    "    desc   = ' \\nDescription: ' + pdf1.loc[pdf1['id'] == id]['content'].tolist()[0].split(' // ')[1][0:165] + '...'\n",
    "    prediction = name  + desc\n",
    "    return prediction\n",
    "\n",
    "def con_based(item_id,num):\n",
    "    recs = res[item_id][:num]\n",
    "    for rec in recs:\n",
    "        print('\\nRecommended: ' + item(rec[1]) + '\\n(similarity score : ' + str(rec[0]) + ')' + ' Listing id :' +str(rec[1])+'\\n')\n",
    "\n",
    "#Function to read the results out of the dictionary\n",
    "def recommend(userid, item_id, num):\n",
    "    if item_id==None:\n",
    "        #Collaborative filtering\n",
    "        print('Recommending based on your rating history... \\n')\n",
    "        for i in range(num):    \n",
    "            rec = model.recommendProducts(userid,num) \n",
    "            print(item(rec[i][1]) + '\\n(Predicted rating : ' + str(rec[i][2]) + ')\\n' + ' Listing id :' +str(rec[i][1]) +'\\n')  \n",
    "    else:\n",
    "        print('Recommending ' + str(num) + ' listings similar to ' + item(item_id))\n",
    "        print('---')\n",
    "        avail = []\n",
    "        pred_rat = {}\n",
    "        recs = res[item_id][:num]\n",
    "        \n",
    "        if cons_train['reviewer_id'].astype(str).str.contains(str(userid)).any() == False:\n",
    "            print('You are a new user, recommending based on your listing_id preference..')\n",
    "            con_based(item_id,num)    \n",
    "    \n",
    "        if cons_train['reviewer_id'].astype(str).str.contains(str(userid)).any() &  (item_id!=None):\n",
    "            for i in range(num):\n",
    "                if cons_train['listing_id'].astype(str).str.contains(str(recs[i][1])).any():\n",
    "                     pred_rat[i] = model.predict(userid,recs[i][1])\n",
    "                else:\n",
    "                    pred_rat[recs[i][1]] = 0\n",
    "\n",
    "            sorted_d = sorted(pred_rat, key=pred_rat.get, reverse=True)\n",
    "            for i in sorted_d:\n",
    "                if i > num:   \n",
    "                    print('\\033[1m'+'\\nThis is a new listing, Check it out!')\n",
    "                    con_based(i,1)\n",
    "                else:             \n",
    "                    print('\\nRecommended based on your preferences: ' + item(recs[i][1]) + '\\n(similarity score : ' + str(recs[i][0]) + ')' + '\\nPredicted_rating : '+str((pred_rat[i])) +' Listing id :' +str(recs[i][1])+'\\n')"
   ]
  },
  {
   "cell_type": "markdown",
   "metadata": {},
   "source": [
    "### Let's recommend!"
   ]
  },
  {
   "cell_type": "code",
   "execution_count": 46,
   "metadata": {},
   "outputs": [
    {
     "name": "stdout",
     "output_type": "stream",
     "text": [
      "Recommending 5 listings similar to Bright Modern Greenwich Village 1BR \n",
      "Description: Bright, newly renovated 1BR/1BA in Greenwich village, steps away from Washington Square Park. The apartment features all of the charm of a pre-war building with a mo...\n",
      "---\n",
      "\n",
      "Recommended based on your preferences: Entire West Village Apartment \n",
      "Description: Chic one bedroom located in the heart of West Village.  One block away from IFC Center, Cafe Dante downstairs- a true Downtown New York experience.  Two block walk t...\n",
      "(similarity score : 0.21152255450985494)\n",
      "Predicted_rating : 4.272400051976689 Listing id :26080646\n",
      "\n",
      "\n",
      "Recommended based on your preferences: Quiet 1-Bedroom in Greenwich Village \n",
      "Description: 1-bedroom in Greenwich Village. Just a block away from Washington Square park, tons of bars and restaurants, and easy access to 8 different subway lines within just ...\n",
      "(similarity score : 0.2228586291257114)\n",
      "Predicted_rating : 3.1529778109847633 Listing id :18911633\n",
      "\n",
      "\n",
      "Recommended based on your preferences: Two Blocks from Washington Square Park!! \n",
      "Description: It's 5 floor walk up but you are in the heart of Greenwich Village. Only two blocks from Washington Square Park plus near the West 4th subway stop (ACE and BDFM trai...\n",
      "(similarity score : 0.22121221933964472)\n",
      "Predicted_rating : 2.6828471654183095 Listing id :30059328\n",
      "\n",
      "\n",
      "Recommended based on your preferences: Lovely room in Greenwich Village \n",
      "Description: 1 Room in a 2-Bedroom apartment in Manhattan (Greenwich Village). Very cute and bright, near all the metro lines and 5 minutes away from Washington Square Park, West...\n",
      "(similarity score : 0.2225575852553077)\n",
      "Predicted_rating : 1.727217304323767 Listing id :3219401\n",
      "\n",
      "\u001b[1m\n",
      "This is a new listing, Check it out!\n",
      "\n",
      "Recommended: Quintessential West Village apartment \n",
      "Description: A quaint, charming and historic apartment in the heart of the west village . Located close to shops , the West Side River park and TONS of restaurants.  Close to Wes...\n",
      "(similarity score : 0.3184272346080461) Listing id :8126282\n",
      "\n"
     ]
    }
   ],
   "source": [
    "#Recommend n listings for user Id 51235419, listing_id 12223159\n",
    "recommend(51235419,12223159, 5)"
   ]
  },
  {
   "cell_type": "code",
   "execution_count": 47,
   "metadata": {},
   "outputs": [
    {
     "name": "stdout",
     "output_type": "stream",
     "text": [
      "Recommending 5 listings similar to Bright Modern Greenwich Village 1BR \n",
      "Description: Bright, newly renovated 1BR/1BA in Greenwich village, steps away from Washington Square Park. The apartment features all of the charm of a pre-war building with a mo...\n",
      "---\n",
      "You are a new user, recommending based on your listing_id preference..\n",
      "\n",
      "Recommended: Idyllic Greenwich Village Apartment \n",
      "Description: Charming, cozy apartment in the heart of the best neighborhood in Manhattan.  High ceilings, hardwood floors and an abundance of natural light.  Steps from the West ...\n",
      "(similarity score : 0.25230335851478636) Listing id :9797510\n",
      "\n",
      "\n",
      "Recommended: Quiet 1-Bedroom in Greenwich Village \n",
      "Description: 1-bedroom in Greenwich Village. Just a block away from Washington Square park, tons of bars and restaurants, and easy access to 8 different subway lines within just ...\n",
      "(similarity score : 0.2228586291257114) Listing id :18911633\n",
      "\n",
      "\n",
      "Recommended: Lovely room in Greenwich Village \n",
      "Description: 1 Room in a 2-Bedroom apartment in Manhattan (Greenwich Village). Very cute and bright, near all the metro lines and 5 minutes away from Washington Square Park, West...\n",
      "(similarity score : 0.2225575852553077) Listing id :3219401\n",
      "\n",
      "\n",
      "Recommended: Two Blocks from Washington Square Park!! \n",
      "Description: It's 5 floor walk up but you are in the heart of Greenwich Village. Only two blocks from Washington Square Park plus near the West 4th subway stop (ACE and BDFM trai...\n",
      "(similarity score : 0.22121221933964472) Listing id :30059328\n",
      "\n",
      "\n",
      "Recommended: Entire West Village Apartment \n",
      "Description: Chic one bedroom located in the heart of West Village.  One block away from IFC Center, Cafe Dante downstairs- a true Downtown New York experience.  Two block walk t...\n",
      "(similarity score : 0.21152255450985494) Listing id :26080646\n",
      "\n"
     ]
    }
   ],
   "source": [
    "#Recommend n listings for user Id 3132338, listing_id 12223159\n",
    "recommend(3132338,12223159, 5)"
   ]
  },
  {
   "cell_type": "code",
   "execution_count": 48,
   "metadata": {},
   "outputs": [
    {
     "name": "stdout",
     "output_type": "stream",
     "text": [
      "Recommending based on your rating history... \n",
      "\n",
      "Gorgeous Apt in Prime Williamsburg \n",
      "Description: Cozy and romantic apartment with high ceilings situated between two subway lines and just one block from away from the beautiful Williamsburg bridge and a few moment...\n",
      "(Predicted rating : 5.199794132957075)\n",
      " Listing id :1325759\n",
      "\n",
      "Bright apartment in Soho with roof access \n",
      "Description: Bright and charming apartment in a top floor (6th floor walk up) apartment full of light located in West Soho, with lots of windows. The large bedroom has great ligh...\n",
      "(Predicted rating : 5.197042408057872)\n",
      " Listing id :13495558\n",
      "\n",
      "LARGE room* light filled loft *PRIME Williamsburg* \n",
      "Description: Our spacious apartment comes with everything you need, including AC, 9 functioning windows (including one in the bathroom), a well equipped kitchen and rooftop with ...\n",
      "(Predicted rating : 5.1871801040107925)\n",
      " Listing id :1175400\n",
      "\n",
      "Upscale Historic District Apt.  Near  Central Park \n",
      "Description: For the traveler who wants to stay at an authentic residence located within a quiet, crowd-free, historic section of Manhattan's Upper East Side. This AirBnB listing...\n",
      "(Predicted rating : 5.141777523114839)\n",
      " Listing id :20191216\n",
      "\n",
      "Sunny 15min to Manhattan LADY only \n",
      "Description: Renewed Airbnb system might lead you to jump into \"Booking Request\". However, please never jump. Before your first inquiry, please do 1) READ my pages & CHECK House ...\n",
      "(Predicted rating : 5.135185205520088)\n",
      " Listing id :161366\n",
      "\n"
     ]
    }
   ],
   "source": [
    "recommend(51235419,None, 5)"
   ]
  },
  {
   "cell_type": "markdown",
   "metadata": {},
   "source": [
    "#### Summary :\n",
    "##### 1.  Notice that for the same listing id, recommendation differ based on reviewer id because of hybrid approach\n",
    "##### 2. Notice that even a new listing without any rating is also recommended based on item similarity\n",
    "##### 3. Notice that for a new user without any history rating, listings are recommended based on item similarity"
   ]
  }
 ],
 "metadata": {
  "kernelspec": {
   "display_name": "Python 3",
   "language": "python",
   "name": "python3"
  },
  "language_info": {
   "codemirror_mode": {
    "name": "ipython",
    "version": 3
   },
   "file_extension": ".py",
   "mimetype": "text/x-python",
   "name": "python",
   "nbconvert_exporter": "python",
   "pygments_lexer": "ipython3",
   "version": "3.6.10"
  }
 },
 "nbformat": 4,
 "nbformat_minor": 4
}
